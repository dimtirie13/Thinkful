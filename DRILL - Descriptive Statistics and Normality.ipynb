{
 "cells": [
  {
   "cell_type": "code",
   "execution_count": 2,
   "metadata": {},
   "outputs": [],
   "source": [
    "import numpy as np\n",
    "import pandas as pd\n",
    "import matplotlib.pyplot as plt"
   ]
  },
  {
   "cell_type": "markdown",
   "metadata": {},
   "source": [
    "1. Generate a random variable with 100 datapoints using the code distributionvar = np.random.distributionname([arguments], 100), replacing distributionvar with an appropriate variable name and distributionname with the name of the distribution you’ve chosen, and filling in the empty space in the parentheses with your chosen values for the appropriate parameters. If you feel uncertain about how to do this, go back to the “Other Distributions” assignment for examples of code to use as a starting point.\n",
    "\n",
    "2. Graph the variable using a histogram.\n",
    "\n",
    "3. Compute the mean and standard deviation and plot them as vertical lines on the histogram. (Hint: the “When Does It Break?” assignment you just completed can help you here.)\n",
    "\n",
    "4. Evaluate whether the descriptive statistics provided useful information about the variable. Can you identify any common characteristics of the distributions that could be usefully described using the mean and/or standard deviation, versus the ones that could not?"
   ]
  },
  {
   "cell_type": "code",
   "execution_count": 26,
   "metadata": {},
   "outputs": [
    {
     "name": "stdout",
     "output_type": "stream",
     "text": [
      "for a normal distribution (this ideal case) is perfectly described with the measures of central tendency. if the data is skewed the standard diviation loses meaning.\n"
     ]
    },
    {
     "data": {
      "image/png": "[encoded data removed]",
      "text/plain": [
       "<matplotlib.figure.Figure at 0x10dfc7f0>"
      ]
     },
     "metadata": {},
     "output_type": "display_data"
    }
   ],
   "source": [
    "# step 1\n",
    "random_var = np.random.normal(20, 0.5, 1000)\n",
    "# step 2\n",
    "plt.hist(random_var)\n",
    "#step 3\n",
    "plt.axvline(random_var.mean(), color='red', linestyle='solid', linewidth=2)\n",
    "plt.axvline(random_var.mean() + random_var.std(), color='b', linestyle='dashed', linewidth=2)\n",
    "plt.axvline(random_var.mean()-random_var.std(), color='b', linestyle='dashed', linewidth=2) \n",
    "#step 4\n",
    "print('Normal distribution (this ideal case) is perfectly described with the measures of central tendency. if the data is skewed the standard diviation loses meaning.')"
   ]
  },
  {
   "cell_type": "markdown",
   "metadata": {},
   "source": [
    "### Additionally:\n",
    "1. Generate two normally-distributed variables, one with a mean of 5 and standard deviation of 0.5, and the other with a mean of and standard deviation of 1.\n",
    "\n",
    "2. Add them together to create a third variable.\n",
    "3. Graph the third variable using a histogram.\n",
    "4. Compute the mean and standard deviation and plot them as vertical lines on the histogram.\n",
    "5. Evaluate the descriptive statistics against the data."
   ]
  },
  {
   "cell_type": "code",
   "execution_count": 42,
   "metadata": {},
   "outputs": [
    {
     "name": "stdout",
     "output_type": "stream",
     "text": [
      "6.006148364512934\n",
      "1.1033311388842335\n"
     ]
    },
    {
     "data": {
      "image/png": "[encoded data removed]",
      "text/plain": [
       "<matplotlib.figure.Figure at 0x10e497b0>"
      ]
     },
     "metadata": {},
     "output_type": "display_data"
    }
   ],
   "source": [
    "# step 1\n",
    "var1 = np.random.normal(5, 0.5, 1000)\n",
    "var2 = np.random.normal(1, 1, 1000)\n",
    "\n",
    "#step 2\n",
    "sum_var = var1 + var2\n",
    "# step 3\n",
    "plt.hist(sum_var)\n",
    "# step 4 \n",
    "plt.axvline(sum_var.mean(), color='black', linestyle='solid')\n",
    "plt.axvline(sum_var.mean() + sum_var.std(), color='red', linestyle='dashed')\n",
    "plt.axvline(sum_var.mean() - sum_var.std(), color='red', linestyle='dashed')\n",
    "# step 5\n",
    "print('Similar response to the problem above. The result changes everytime due to \"random\". ')"
   ]
  }
 ],
 "metadata": {
  "kernelspec": {
   "display_name": "Python 3",
   "language": "python",
   "name": "python3"
  },
  "language_info": {
   "codemirror_mode": {
    "name": "ipython",
    "version": 3
   },
   "file_extension": ".py",
   "mimetype": "text/x-python",
   "name": "python",
   "nbconvert_exporter": "python",
   "pygments_lexer": "ipython3",
   "version": "3.6.4"
  }
 },
 "nbformat": 4,
 "nbformat_minor": 2
}
