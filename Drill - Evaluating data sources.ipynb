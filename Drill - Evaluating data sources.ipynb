{
 "cells": [
  {
   "cell_type": "markdown",
   "metadata": {},
   "source": [
    "In each of the scenarios, find possible shortcomings of the theoretical or actual data sources to answer the given question. What could be done to either adjust the analysis or reframe the question so that you can answer it accurately?\n",
    "\n",
    "Data Source: Amsterdam availability data scraped from AirBnB on December 24th. Question: What are the popular neighborhoods in Amsterdam?\n",
    "\n",
    "Data Source: Mental health services use on September 12, 2001 in San Francisco, CA and New York City, NY. Question: How do patterns of mental health service use vary between cities?\n",
    "\n",
    "Data Source: Armenian Pub Survey. Question: What are the most common reasons Armenians visit local pubs?\n",
    "\n"
   ]
  },
  {
   "cell_type": "markdown",
   "metadata": {},
   "source": [
    "The AirBnB Data source is Bias because it's choosing a Holiday. This is similar to the shopping habbits for American During Superbowl used in the lesson above. Holidays have higher travelling numbers than usual and people might also stay at odd(not usually common) neighborhoods near their families instead of staying somewhere the average tourist would prefer. If you want to stick with Holidays I would have the question be what are the most popular neighborhoods in Amsterdam during different Holiday seasons? \n",
    "\n",
    "The mental Health service between those cities will be interesting however picking a date right after a terrorist will not be a good idea. You could potentially pick a different city than New York? or do a study to show the differences between a city that went through something like this vs one that didn't? see how it is effecting people across the entire country vs New Yorkers.\n",
    "\n",
    "The Armenian Pub Survey is focusing solely to College students. I would change it to to the common reasons Armenian College students visit local pubs. "
   ]
  },
  {
   "cell_type": "code",
   "execution_count": null,
   "metadata": {},
   "outputs": [],
   "source": []
  }
 ],
 "metadata": {
  "kernelspec": {
   "display_name": "Python 3",
   "language": "python",
   "name": "python3"
  },
  "language_info": {
   "codemirror_mode": {
    "name": "ipython",
    "version": 3
   },
   "file_extension": ".py",
   "mimetype": "text/x-python",
   "name": "python",
   "nbconvert_exporter": "python",
   "pygments_lexer": "ipython3",
   "version": "3.6.4"
  }
 },
 "nbformat": 4,
 "nbformat_minor": 2
}
