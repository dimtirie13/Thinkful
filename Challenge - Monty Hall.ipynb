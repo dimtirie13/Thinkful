{
 "cells": [
  {
   "cell_type": "markdown",
   "metadata": {},
   "source": [
    "One of the classic problems in this space is referred to as the Monty Hall Problem. Some people even use this as an interview question! It is deceptively simple, and really digging into it reveals a myriad of approaches and some serious applications of conditional probability. The story goes like this:\n",
    "\n",
    "You are on a game show and given the choice of whatever is behind three doors. Behind one door is a fantastic prize (some examples use a car, others use cash) while behind the other two doors is a dud (some examples say a goat, others say it's just empty). You pick a door. Then the host opens one of the other two doors to reveal a dud. But here's the wrinkle: the host now gives you the opportunity to switch your door. What should you do?\n",
    "\n",
    "Write up some notes on this problem, including how you think Bayes' Rule might apply. Drop a link to your notes below and discuss it with your mentor."
   ]
  },
  {
   "cell_type": "markdown",
   "metadata": {},
   "source": [
    "Answer: The table below shows all the possible outcomes in order for a player to win the game. The first column represents all the choices at the beggining. The second column shows all the location possibilities of the prize.The last column shows whether the player should choose to stay or switch after a door is removed by the host, in order to win. "
   ]
  },
  {
   "cell_type": "code",
   "execution_count": 2,
   "metadata": {},
   "outputs": [
    {
     "name": "stdout",
     "output_type": "stream",
     "text": [
      "  Choice Prize Stay or Switch\n",
      "0      1     1           stay\n",
      "1      1     2         switch\n",
      "2      1     3         switch\n",
      "3      2     1         switch\n",
      "4      2     2           stay\n",
      "5      2     3         switch\n",
      "6      3     1         switch\n",
      "7      3     2         switch\n",
      "8      3     3           stay\n"
     ]
    }
   ],
   "source": [
    "import pandas as pd\n",
    "\n",
    "outcomes = pd.DataFrame()\n",
    "outcomes['Choice'] = ['1', '1', '1', '2', '2', '2', '3', '3', '3']\n",
    "outcomes['Prize'] = ['1', '2', '3', '1', '2', '3', '1', '2', '3']\n",
    "outcomes['Stay or Switch'] = ['stay', 'switch', 'switch', 'switch', 'stay', 'switch', 'switch', 'switch', 'stay']\n",
    "    \n",
    "\n",
    "print(outcomes)"
   ]
  },
  {
   "cell_type": "markdown",
   "metadata": {},
   "source": [
    "if the player chooses to \"switch\" their odds of winning are 6 out of 9(sum all the \"switch\" outcomes) however, if they choose to \"stay\" their odds are 3 out of 9."
   ]
  }
 ],
 "metadata": {
  "kernelspec": {
   "display_name": "Python 3",
   "language": "python",
   "name": "python3"
  },
  "language_info": {
   "codemirror_mode": {
    "name": "ipython",
    "version": 3
   },
   "file_extension": ".py",
   "mimetype": "text/x-python",
   "name": "python",
   "nbconvert_exporter": "python",
   "pygments_lexer": "ipython3",
   "version": "3.6.4"
  }
 },
 "nbformat": 4,
 "nbformat_minor": 2
}
