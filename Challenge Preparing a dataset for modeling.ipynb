{
 "cells": [
  {
   "cell_type": "code",
   "execution_count": 1,
   "metadata": {
    "collapsed": true
   },
   "outputs": [],
   "source": [
    "import pandas as pd\n",
    "import numpy as np\n",
    "import matplotlib.pyplot as plt\n",
    "import seaborn as sns\n",
    "import scipy.stats as stats"
   ]
  },
  {
   "cell_type": "code",
   "execution_count": 2,
   "metadata": {
    "collapsed": false
   },
   "outputs": [],
   "source": [
    "df = pd.read_csv('data.csv')"
   ]
  },
  {
   "cell_type": "code",
   "execution_count": 70,
   "metadata": {
    "collapsed": false
   },
   "outputs": [],
   "source": [
    "# Analyze the Winning outcome\n",
    "\n",
    "# select 4-5 variables\n",
    "red_age = df.R_Age\n",
    "blue_age = df.B_Age\n",
    "red_height = df.R_Height\n",
    "blue_height = df.B_Height\n",
    "winner = df.winner\n",
    "df['R_Bmi'] = (df.R_Weight / (df.R_Height * .01) **2) # *.01 is done to change from cm to m in order to use the \n",
    "df['B_Bmi'] = (df.B_Weight / (df.B_Height * .01) **2)\n",
    "\n",
    "\n",
    "\n",
    "red_round_one = df['R__Round1_Strikes_Total Strikes_Landed']\n",
    "blue_round_one = df['B__Round1_Strikes_Total Strikes_Landed']\n",
    "round_one_hits = pd.concat([red_round_one,blue_round_one],ignore_index=True).dropna()\n",
    "\n",
    "red_round_two = df['R__Round2_Strikes_Total Strikes_Landed']\n",
    "blue_round_two = df['B__Round2_Strikes_Total Strikes_Landed']\n",
    "round_two_hits = pd.concat([red_round_two,blue_round_two],ignore_index=True).dropna()\n",
    "\n",
    "red_round_three = df['R__Round3_Strikes_Total Strikes_Landed']\n",
    "blue_round_three = df['B__Round3_Strikes_Total Strikes_Landed']\n",
    "round_three_hits = pd.concat([red_round_three,blue_round_three],ignore_index=True).dropna()\n",
    "\n",
    "red_round_four = df['R__Round4_Strikes_Total Strikes_Landed']\n",
    "blue_round_four = df['B__Round4_Strikes_Total Strikes_Landed']\n",
    "round_four_hits = pd.concat([red_round_four,blue_round_four],ignore_index=True).dropna()\n",
    "\n",
    "red_round_five = df['R__Round4_Strikes_Total Strikes_Landed']\n",
    "blue_round_five = df['B__Round4_Strikes_Total Strikes_Landed']\n",
    "round_five_hits = pd.concat([red_round_five,blue_round_five],ignore_index=True).dropna()\n",
    "\n",
    "total_hits = round_one_hits + round_two_hits + round_three_hits + round_four_hits + round_five_hits"
   ]
  },
  {
   "cell_type": "code",
   "execution_count": 69,
   "metadata": {
    "code_folding": [],
    "collapsed": false
   },
   "outputs": [],
   "source": [
    "# Create 10 Features\n",
    "features = pd.get_dummies(df)\n",
    "result_by_age = df[['B_Age','R_Age','winner']]\n",
    "result_by_height = df[['B_Height','R_Height','winner']]\n",
    "\n",
    "features['B_old'] = np.where(df.B_Age >= 30,1,0)\n",
    "features['R_old'] = np.where(df.R_Age >= 30,1,0)\n",
    "features['B_tall'] = np.where(df.B_Height >= 177,1,0)\n",
    "features['R_tall'] = np.where(df.R_Height >= 177,1,0)\n",
    "features['low_R_bmi'] = np.where(df.R_Bmi <= 23,1,0)\n",
    "features['low_B_bmi'] = np.where(df.B_Bmi <= 23,1,0)\n",
    "features['red_bmi_by_age'] = ((red_age * df.R_Bmi))\n",
    "features['blue_bmi_by_age'] = ((blue_age * df.B_Bmi))\n"
   ]
  },
  {
   "cell_type": "code",
   "execution_count": null,
   "metadata": {
    "collapsed": false
   },
   "outputs": [],
   "source": []
  },
  {
   "cell_type": "code",
   "execution_count": null,
   "metadata": {
    "collapsed": false
   },
   "outputs": [],
   "source": []
  },
  {
   "cell_type": "code",
   "execution_count": null,
   "metadata": {
    "collapsed": true
   },
   "outputs": [],
   "source": []
  }
 ],
 "metadata": {
  "anaconda-cloud": {},
  "kernelspec": {
   "display_name": "Python [conda env:Anaconda3]",
   "language": "python",
   "name": "conda-env-Anaconda3-py"
  },
  "language_info": {
   "codemirror_mode": {
    "name": "ipython",
    "version": 3
   },
   "file_extension": ".py",
   "mimetype": "text/x-python",
   "name": "python",
   "nbconvert_exporter": "python",
   "pygments_lexer": "ipython3",
   "version": "3.5.2"
  }
 },
 "nbformat": 4,
 "nbformat_minor": 1
}
