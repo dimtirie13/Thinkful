{
 "cells": [
  {
   "cell_type": "markdown",
   "metadata": {},
   "source": [
    "Question 1) Greg was 14, Marcia was 12, Peter was 11, Jan was 10, Bobby was 8, and Cindy was 6 when they started playing the Brady kids\n",
    "on The Brady Bunch. Cousin Oliver was 8 years old when he joined the show. What are the mean, median, and mode of the kids\n",
    "ages when they first appeared on the show? What are the variance, standard deviation, and standard error?"
   ]
  },
  {
   "cell_type": "code",
   "execution_count": 24,
   "metadata": {},
   "outputs": [],
   "source": [
    "import numpy as np\n",
    "import statistics as stat"
   ]
  },
  {
   "cell_type": "code",
   "execution_count": 25,
   "metadata": {},
   "outputs": [
    {
     "name": "stdout",
     "output_type": "stream",
     "text": [
      "The mean is: 9.857142857142858\n",
      "The median is 10.0\n",
      "The mode is: 8\n",
      "The variance is: 7.476190476190476\n",
      "The standard deviation is: 2.531435020952764\n",
      "The standard error is: 1.0334540197243194\n"
     ]
    }
   ],
   "source": [
    "ages = [14, 12, 11, 10, 8, 6, 8]\n",
    "\n",
    "print('The mean is:', np.mean(ages))\n",
    "print('The median is', np.median(ages))\n",
    "print('The mode is:', stat.mode(ages))\n",
    "print('The variance is:', stat.variance(ages))\n",
    "print('The standard deviation is:', np.std(ages))\n",
    "print('The standard error is:', np.std(ages) / np.sqrt(len(ages)-1))"
   ]
  },
  {
   "cell_type": "markdown",
   "metadata": {},
   "source": [
    "Question 2) Using these estimates, if you had to choose only one estimate of central tendency and one estimate of variance to describe the data, which would you pick and why?"
   ]
  },
  {
   "cell_type": "markdown",
   "metadata": {},
   "source": [
    "Answer: Since there are no extreme values I would pick the mean and the Standard Deviation in order to see how spread out the \n",
    "ages are from the mean."
   ]
  },
  {
   "cell_type": "markdown",
   "metadata": {},
   "source": [
    "Question 3) Next, Cindy has a birthday. Update your estimates- what changed, and what didn't"
   ]
  },
  {
   "cell_type": "code",
   "execution_count": 28,
   "metadata": {},
   "outputs": [
    {
     "name": "stdout",
     "output_type": "stream",
     "text": [
      "The mean is: 10.0\n",
      "The median is 10.0\n",
      "The mode is: 8\n",
      "The variance is: 6.333333333333333\n",
      "The standard deviation is: 2.32992949004287\n",
      "The standard error is: 0.951189731211342\n"
     ]
    }
   ],
   "source": [
    "new_ages = [14, 12, 11, 10, 8, 7, 8]\n",
    "\n",
    "print('The mean is:', np.mean(new_ages))\n",
    "print('The median is', np.median(new_ages))\n",
    "print('The mode is:', stat.mode(new_ages))\n",
    "print('The variance is:', stat.variance(new_ages))\n",
    "print('The standard deviation is:', np.std(new_ages))\n",
    "print('The standard error is:', np.std(new_ages) / np.sqrt(len(new_ages)-1))\n",
    "\n",
    "# Everything changed besides the Median and the mode"
   ]
  },
  {
   "cell_type": "markdown",
   "metadata": {},
   "source": [
    "Nobody likes Cousin Oliver. Maybe the network should have used an even younger actor. Replace Cousin Oliver with 1-year-old Jessica, then recalculate again. Does this change your choice of central tendency or variance estimation methods?"
   ]
  },
  {
   "cell_type": "code",
   "execution_count": 32,
   "metadata": {},
   "outputs": [
    {
     "name": "stdout",
     "output_type": "stream",
     "text": [
      "The mean is: 8.857142857142858\n",
      "The median is 10.0\n",
      "The mode is: 0\n",
      "The variance is: 18.80952380952381\n",
      "The standard deviation is: 4.015276949301485\n",
      "The standard error is: 1.6392299502912864\n"
     ]
    }
   ],
   "source": [
    "no_oliver_ages = [14, 12, 11, 10, 8, 6, 1]\n",
    "\n",
    "print('The mean is:', np.mean(no_oliver_ages))\n",
    "print('The median is', np.median(no_oliver_ages))\n",
    "print('The mode is:', np.argmax(no_oliver_ages))\n",
    "print('The variance is:', stat.variance(no_oliver_ages))\n",
    "print('The standard deviation is:', np.std(no_oliver_ages))\n",
    "print('The standard error is:', np.std(no_oliver_ages) / np.sqrt(len(no_oliver_ages)-1))\n",
    "\n",
    "# "
   ]
  },
  {
   "cell_type": "markdown",
   "metadata": {},
   "source": [
    "On the 50th anniversary of The Brady Bunch, four different magazines asked their readers whether they were fans of the show. The answers were: TV Guide 20% fans Entertainment Weekly 23% fans Pop Culture Today 17% fans SciPhi Phanatic 5% fans. Based on these numbers, what percentage of adult Americans would you estimate were Brady Bunch fans on the 50th anniversary of the show?"
   ]
  },
  {
   "cell_type": "code",
   "execution_count": 42,
   "metadata": {},
   "outputs": [
    {
     "data": {
      "text/plain": [
       "20.0"
      ]
     },
     "execution_count": 42,
     "metadata": {},
     "output_type": "execute_result"
    }
   ],
   "source": [
    "avg_percentages = [20, 23, 17,]\n",
    "np.mean(avg_percentages)\n",
    "\n",
    "# the SciPhi seemed too low and a bit too random for The Brady Bunch viewers.\n"
   ]
  },
  {
   "cell_type": "code",
   "execution_count": null,
   "metadata": {},
   "outputs": [],
   "source": []
  }
 ],
 "metadata": {
  "kernelspec": {
   "display_name": "Python 3",
   "language": "python",
   "name": "python3"
  },
  "language_info": {
   "codemirror_mode": {
    "name": "ipython",
    "version": 3
   },
   "file_extension": ".py",
   "mimetype": "text/x-python",
   "name": "python",
   "nbconvert_exporter": "python",
   "pygments_lexer": "ipython3",
   "version": "3.6.4"
  }
 },
 "nbformat": 4,
 "nbformat_minor": 2
}
