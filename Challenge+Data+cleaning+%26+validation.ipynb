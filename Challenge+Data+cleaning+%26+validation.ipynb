{
 "cells": [
  {
   "cell_type": "markdown",
   "metadata": {},
   "source": [
    "determine the five most common journals and the total articles for each. Next, calculate the mean, median, and standard deviation of the open-access cost per article for each journal"
   ]
  },
  {
   "cell_type": "code",
   "execution_count": 332,
   "metadata": {
    "collapsed": false
   },
   "outputs": [],
   "source": [
    "import numpy as np\n",
    "import pandas as pd\n",
    "import re\n",
    "import statistics as stats\n",
    "from fuzzywuzzy import fuzz\n",
    "from fuzzywuzzy import process\n",
    "\n",
    "\n",
    "# I opened filed with notepad++ and converted the encoding from ANSI to UTF-8\n",
    "# Then I saved it as a CSV file\n",
    "df_path = 'Updated_WELLCOME_APCspend2013_forThinkful.txt'\n",
    "df = pd.read_csv(df_path)\n",
    "\n",
    "# changed the long cost title name\n",
    "short_column = [column.replace('COST (£) charged to Wellcome (inc VAT when charged)','Cost') for column in df.columns]\n",
    "df.columns = short_column\n",
    "\n",
    "\n",
    "# this loop lowers all data points + removes the '/' between the names\n",
    "for column_name in df.columns:\n",
    "    df[column_name] = df[column_name].str.lower()\\\n",
    "            .str.replace('//',' ').str.replace(',',' ').str.replace(':',' ').str.replace('&','and').str.replace('  ',' ')\\\n",
    "            .str.replace('the ', '').str.replace('plosone','plos medicine').str.replace('plos computational biology','plos medical')\\\n",
    "            .str.replace('\\r\\n','').str.replace('plos one','plos medical').str.replace('plos','plos medical')\\\n",
    "            .str.replace(' ntd', '').str.replace(' 1','').str.replace('plos medical medical','plos medical')\\\n",
    "            .str.replace('plos medical pathogens','plos medical').str.replace('plos medical genetics','plos medical')\\\n",
    "            .str.replace('plos medical neglected tropical diseases','plos medical').str.replace('plos medical medicine','plos medical')\\\n",
    "            .str.replace('plos medical biology','plos medical').str.replace('plos medical journal','plos medical')\\\n",
    "            .str.replace('plos medical negected tropical diseases','plos medical')\n",
    "            \n",
    "  \n",
    "\n",
    "# this variable remvoed the pound sign and changes the cost column from String to Float\n",
    "df['Cost'] = df['Cost'].apply(lambda x: float(x.strip('£$')))\n",
    "\n",
    "top_five = df['Journal title'].str.lower().value_counts().head(5)\n",
    "#removed all nan values\n",
    "#new_df = df.dropna(how='any') # subset=column\n",
    "\n"
   ]
  },
  {
   "cell_type": "code",
   "execution_count": null,
   "metadata": {
    "collapsed": true
   },
   "outputs": [],
   "source": [
    "# this function allowed me to find string with matching characters and return a percentage of accuracy\n",
    "def get_matches(query, choices, limit=10):\n",
    "    results = process.extract(query, choices, limit=limit)\n",
    "    return results \n",
    "\n",
    "# this for loop allows me to view the results of the functiuon above focusing only in the 'Journal Title' Column\n",
    "for journal in top_ten.index:\n",
    "    print('-'*80)\n",
    "    print(journal)\n",
    "    matched_journals = get_matches(journal,df['Journal title'].unique())\n",
    "    for element in matched_journals:\n",
    "        print(element)"
   ]
  },
  {
   "cell_type": "markdown",
   "metadata": {
    "hide_input": true
   },
   "source": [
    "The top five most common Journal Titles:"
   ]
  },
  {
   "cell_type": "code",
   "execution_count": 229,
   "metadata": {
    "collapsed": false,
    "hide_input": false
   },
   "outputs": [
    {
     "data": {
      "text/plain": [
       "plos medical                                   298\n",
       "journal of biological chemistry                 60\n",
       "neuroimage                                      29\n",
       "nucleic acids research                          24\n",
       "proceedings of national academy of sciences     20\n",
       "Name: Journal title, dtype: int64"
      ]
     },
     "execution_count": 229,
     "metadata": {},
     "output_type": "execute_result"
    }
   ],
   "source": [
    "top_five"
   ]
  },
  {
   "cell_type": "code",
   "execution_count": 343,
   "metadata": {
    "collapsed": false
   },
   "outputs": [
    {
     "data": {
      "text/html": [
       "<div>\n",
       "<table border=\"1\" class=\"dataframe\">\n",
       "  <thead>\n",
       "    <tr style=\"text-align: right;\">\n",
       "      <th></th>\n",
       "      <th>PMID/PMCID</th>\n",
       "      <th>Publisher</th>\n",
       "      <th>Article title</th>\n",
       "      <th>Cost</th>\n",
       "    </tr>\n",
       "    <tr>\n",
       "      <th>Journal title</th>\n",
       "      <th></th>\n",
       "      <th></th>\n",
       "      <th></th>\n",
       "      <th></th>\n",
       "    </tr>\n",
       "  </thead>\n",
       "  <tbody>\n",
       "    <tr>\n",
       "      <th>plos medical</th>\n",
       "      <td>285</td>\n",
       "      <td>298</td>\n",
       "      <td>298</td>\n",
       "      <td>298</td>\n",
       "    </tr>\n",
       "    <tr>\n",
       "      <th>journal of biological chemistry</th>\n",
       "      <td>59</td>\n",
       "      <td>60</td>\n",
       "      <td>60</td>\n",
       "      <td>60</td>\n",
       "    </tr>\n",
       "    <tr>\n",
       "      <th>neuroimage</th>\n",
       "      <td>28</td>\n",
       "      <td>29</td>\n",
       "      <td>29</td>\n",
       "      <td>29</td>\n",
       "    </tr>\n",
       "    <tr>\n",
       "      <th>nucleic acids research</th>\n",
       "      <td>23</td>\n",
       "      <td>24</td>\n",
       "      <td>24</td>\n",
       "      <td>24</td>\n",
       "    </tr>\n",
       "    <tr>\n",
       "      <th>proceedings of national academy of sciences</th>\n",
       "      <td>20</td>\n",
       "      <td>20</td>\n",
       "      <td>20</td>\n",
       "      <td>20</td>\n",
       "    </tr>\n",
       "  </tbody>\n",
       "</table>\n",
       "</div>"
      ],
      "text/plain": [
       "                                             PMID/PMCID  Publisher  \\\n",
       "Journal title                                                        \n",
       "plos medical                                        285        298   \n",
       "journal of biological chemistry                      59         60   \n",
       "neuroimage                                           28         29   \n",
       "nucleic acids research                               23         24   \n",
       "proceedings of national academy of sciences          20         20   \n",
       "\n",
       "                                             Article title  Cost  \n",
       "Journal title                                                     \n",
       "plos medical                                           298   298  \n",
       "journal of biological chemistry                         60    60  \n",
       "neuroimage                                              29    29  \n",
       "nucleic acids research                                  24    24  \n",
       "proceedings of national academy of sciences             20    20  "
      ]
     },
     "execution_count": 343,
     "metadata": {},
     "output_type": "execute_result"
    }
   ],
   "source": [
    "article_df = df.groupby('Journal title').agg('count').sort_values('Article title',ascending=False).head(5)\n",
    "article_df"
   ]
  },
  {
   "cell_type": "code",
   "execution_count": 452,
   "metadata": {
    "collapsed": false
   },
   "outputs": [],
   "source": [
    "#cost_grouped = df.groupby(['Journal title','Article title']).sum()\n",
    "plos_medical = df.loc[df['Journal title'] == 'plos medical']\n",
    "nucleic_acids_research = df.loc[df['Journal title'] == 'nucleic acids research']\n",
    "neuroimage = df.loc[df['Journal title'] == 'neuroimage']\n",
    "journ_of_bio_chem = df.loc[df['Journal title'] == 'journal of biological chemistry']\n",
    "proceedings_of_national_academy_of_sciences = df.loc[df['Journal title'] == 'proceedings of national academy of sciences']"
   ]
  },
  {
   "cell_type": "code",
   "execution_count": 453,
   "metadata": {
    "collapsed": false,
    "hide_input": false
   },
   "outputs": [
    {
     "name": "stdout",
     "output_type": "stream",
     "text": [
      "Plos medical Journal\n",
      "Cost    45330.506309\n",
      "dtype: float64\n",
      "Cost    1035.235\n",
      "dtype: float64\n",
      "Cost    204537.132702\n",
      "dtype: float64\n"
     ]
    }
   ],
   "source": [
    "print('Plos medical Journal')\n",
    "print(plos_medical.mean())\n",
    "print(plos_medical.median())\n",
    "print(plos_medical.std())"
   ]
  },
  {
   "cell_type": "code",
   "execution_count": 454,
   "metadata": {
    "collapsed": false
   },
   "outputs": [
    {
     "name": "stdout",
     "output_type": "stream",
     "text": [
      "nucleic_acids_research\n",
      "Cost    1156.0\n",
      "dtype: float64\n",
      "Cost    852.0\n",
      "dtype: float64\n",
      "Cost    449.036069\n",
      "dtype: float64\n"
     ]
    }
   ],
   "source": [
    "print('nucleic_acids_research')\n",
    "print(nucleic_acids_research.mean())\n",
    "print(nucleic_acids_research.median())\n",
    "print(nucleic_acids_research.std())"
   ]
  },
  {
   "cell_type": "code",
   "execution_count": 455,
   "metadata": {
    "collapsed": false
   },
   "outputs": [
    {
     "name": "stdout",
     "output_type": "stream",
     "text": [
      "journal of biological chemistry\n",
      "Cost    18058.929167\n",
      "dtype: float64\n",
      "Cost    1319.55\n",
      "dtype: float64\n",
      "Cost    128917.105082\n",
      "dtype: float64\n"
     ]
    }
   ],
   "source": [
    "print('journal of biological chemistry')\n",
    "print(journ_of_bio_chem.mean())\n",
    "print(journ_of_bio_chem.median())\n",
    "print(journ_of_bio_chem.std())"
   ]
  },
  {
   "cell_type": "code",
   "execution_count": 456,
   "metadata": {
    "collapsed": false
   },
   "outputs": [
    {
     "name": "stdout",
     "output_type": "stream",
     "text": [
      "neuroimage\n",
      "Cost    2215.168276\n",
      "dtype: float64\n",
      "Cost    2326.43\n",
      "dtype: float64\n",
      "Cost    266.653947\n",
      "dtype: float64\n"
     ]
    }
   ],
   "source": [
    "print('neuroimage')\n",
    "print(neuroimage.mean())\n",
    "print(neuroimage.median())\n",
    "print(neuroimage.std())"
   ]
  },
  {
   "cell_type": "code",
   "execution_count": 457,
   "metadata": {
    "collapsed": false
   },
   "outputs": [
    {
     "name": "stdout",
     "output_type": "stream",
     "text": [
      "proceedings of national academy of sciences\n",
      "Cost    693.3205\n",
      "dtype: float64\n",
      "Cost    698.57\n",
      "dtype: float64\n",
      "Cost    193.813895\n",
      "dtype: float64\n"
     ]
    }
   ],
   "source": [
    "print('proceedings of national academy of sciences')\n",
    "print(proceedings_of_national_academy_of_sciences.mean())\n",
    "print(proceedings_of_national_academy_of_sciences.median())\n",
    "print(proceedings_of_national_academy_of_sciences.std())"
   ]
  },
  {
   "cell_type": "code",
   "execution_count": null,
   "metadata": {
    "collapsed": true
   },
   "outputs": [],
   "source": []
  }
 ],
 "metadata": {
  "anaconda-cloud": {},
  "kernelspec": {
   "display_name": "Python [default]",
   "language": "python",
   "name": "python3"
  },
  "language_info": {
   "codemirror_mode": {
    "name": "ipython",
    "version": 3
   },
   "file_extension": ".py",
   "mimetype": "text/x-python",
   "name": "python",
   "nbconvert_exporter": "python",
   "pygments_lexer": "ipython3",
   "version": "3.5.2"
  }
 },
 "nbformat": 4,
 "nbformat_minor": 2
}
